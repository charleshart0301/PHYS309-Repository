{
  "cells": [
    {
      "cell_type": "markdown",
      "id": "33885243",
      "metadata": {
        "id": "33885243"
      },
      "source": [
        "# Bohr models of ions\n",
        "\n",
        "The Bohr model works for atoms with only one electron. Adding electrons would require accounting for their mutual Coulomb forces, which would depend on the electrons' locations in their orbits. However, there are ions that have only one electron, for which a small modification to the Bohr model can predict their energy levels.\n",
        "\n",
        "Read the notebook <tt>Bohr_model_extensions.ipynb</tt>, which is on the class GitHub page. You will be using Equation 1 to compare the photon energy that correspond to energy level transitions in hydrogen, singly-ionized helium, and doubly-ionized lithium.\n",
        "\n",
        "Note: you are responsible for importing the packages you need and making sure your axis labels are large enough to be readable.\n",
        "\n",
        "<ol>\n",
        "    <li>Write a function that finds the photon <em>energy</em> in eV (calculate it from the wavelength predicted by the Rydberg equation) that moves an electron between levels $n$ and $n+1$. The independent variables of your function should be $Z$ (atomic number) and $n$. Do not hand-code any constants: use the pre-programmed values in <tt>scipy</tt>.</li>\n",
        "</ol>"
      ]
    },
    {
      "cell_type": "code",
      "execution_count": 25,
      "id": "d9969682",
      "metadata": {
        "colab": {
          "base_uri": "https://localhost:8080/"
        },
        "id": "d9969682",
        "outputId": "0815b383-66a2-41d0-ad78-688c00fe00af"
      },
      "outputs": [
        {
          "output_type": "stream",
          "name": "stdout",
          "text": [
            "1.8898282330567466\n"
          ]
        }
      ],
      "source": [
        "from scipy import constants\n",
        "def photon_energy(atomic_num, n):\n",
        "  float(atomic_num)\n",
        "  float(n)\n",
        "  frequency=constants.c*constants.Rydberg*(atomic_num**2.0)*(1.0/(n**2.0)-1.0/((n+1.0)**2.0))\n",
        "  energy=frequency*constants.Planck\n",
        "  electronvolts=float(energy*(6.242*10**18.0))\n",
        "  return electronvolts\n",
        "print(photon_energy(1,2))"
      ]
    },
    {
      "cell_type": "markdown",
      "id": "3eb29aa5",
      "metadata": {
        "id": "3eb29aa5"
      },
      "source": [
        "<ol start = 2>\n",
        "    <li>Use the python function of your choice to create an integer <em>array</em> (not list) of values $n = 1, 2, \\ldots, 10$. Do not simply hard-code in all the numbers by hand. Create a second array (not list) of atomic numbers $Z = 1, 2, 3$, again using a python function.</li>\n",
        "</ol>"
      ]
    },
    {
      "cell_type": "code",
      "execution_count": 47,
      "id": "105af0f4",
      "metadata": {
        "id": "105af0f4",
        "colab": {
          "base_uri": "https://localhost:8080/"
        },
        "outputId": "1666df9b-e51c-4e77-d469-9c832eab9c3e"
      },
      "outputs": [
        {
          "output_type": "stream",
          "name": "stdout",
          "text": [
            "array('i', [1, 2, 3, 4, 5, 6, 7, 8, 9, 10])\n"
          ]
        }
      ],
      "source": [
        "import array\n",
        "array.array('i')\n",
        "for i in range(1,10):\n",
        "  int_list = array.array('i',(i for i in range(1,11)))\n",
        "for j in range(1,3):\n",
        "  atomic_numlist = array.array('i',(j for j in range(1,4)))\n",
        "print(int_list)"
      ]
    },
    {
      "cell_type": "markdown",
      "id": "fdc267f4",
      "metadata": {
        "id": "fdc267f4"
      },
      "source": [
        "<ol start=3>\n",
        "    <li>For each combination of $Z$ and $n$, calculate the energy of light required to move from level $n$ to $n+1$. Store the results in an array with 3 rows and 10 columns. You may find the meshgrid command helpful.</li>\n",
        "</ol>"
      ]
    },
    {
      "cell_type": "code",
      "execution_count": 55,
      "id": "fb38e7e0",
      "metadata": {
        "id": "fb38e7e0",
        "colab": {
          "base_uri": "https://localhost:8080/"
        },
        "outputId": "5e6b3b61-bf98-44ef-90cc-439bc9e6c65c"
      },
      "outputs": [
        {
          "output_type": "stream",
          "name": "stdout",
          "text": [
            "[[10.205072458506432, 1.8898282330567466, 0.6614398815698612, 0.30615217375519294, 0.16630488450899372, 0.10027660012137839, 0.06508337027108692, 0.04462094439161763, 0.0319170990471806, 0.023615043705634716], [40.82028983402573, 7.5593129322269865, 2.645759526279445, 1.2246086950207717, 0.6652195380359749, 0.40110640048551355, 0.2603334810843477, 0.17848377756647052, 0.1276683961887224, 0.09446017482253886], [91.84565212655788, 17.008454097510718, 5.952958934128751, 2.7553695637967364, 1.4967439605809434, 0.9024894010924054, 0.5857503324397823, 0.4015884995245587, 0.2872538914246253, 0.21253539335071245]]\n"
          ]
        }
      ],
      "source": [
        "import numpy as np\n",
        "Zv, nv = np.meshgrid(atomic_numlist, int_list,)\n",
        "\n",
        "rows=[]\n",
        "\n",
        "for i in range(0,len(Zv[0])):\n",
        "  columns=[]\n",
        "  for b in range(0,len(nv)):\n",
        "    columns.append(photon_energy(Zv[0][i],nv[b][0]))\n",
        "    #columns.append((Zv[0][i]*nv[b][0]))\n",
        "  rows.append(columns)\n",
        "print(rows)\n",
        "#The nested lists represent the the energies for each integer from 1->10 for each atomic number 1->3."
      ]
    },
    {
      "cell_type": "markdown",
      "id": "4ce0665f",
      "metadata": {
        "id": "4ce0665f"
      },
      "source": [
        "<ol start=4>\n",
        "    <li>Now you are going to make a color-coded plot. With $n$ on the x-axis and $z$ on the y-axis, add a circle to your plot at each $(n,z)$ ordered pair with the color determined by the energy calculated in question 3. Make sure your plot has a colorbar to show the energy scale, and put units on the colorbar. x and y axes should also be labeled.</li>\n",
        "</ol>\n",
        "\n",
        "I am including an example plot showing arbitrary dependent variable $w$ on a color scale as a function of independent variables $u$ and $v$. None of these variables mean anything; this example is just to help you visualize what your plot should look like."
      ]
    },
    {
      "cell_type": "code",
      "execution_count": null,
      "id": "4585afc3",
      "metadata": {
        "id": "4585afc3",
        "outputId": "133cabd5-b97b-4e75-c29c-f22a5f963b38"
      },
      "outputs": [
        {
          "data": {
            "image/png": "[encoded data removed]",
            "text/plain": [
              "<PIL.PngImagePlugin.PngImageFile image mode=RGBA size=430x142 at 0x7F99291137C0>"
            ]
          },
          "metadata": {},
          "output_type": "display_data"
        }
      ],
      "source": [
        "from PIL import Image\n",
        "sample = Image.open(\"color_coded_scatter_example.png\")\n",
        "display(sample)"
      ]
    },
    {
      "cell_type": "markdown",
      "id": "ecf1d35d",
      "metadata": {
        "id": "ecf1d35d"
      },
      "source": [
        "Code that might help you make your plot is in the cell below. You are free to do something else if you prefer."
      ]
    },
    {
      "cell_type": "code",
      "execution_count": 87,
      "id": "d4c9baa3",
      "metadata": {
        "id": "d4c9baa3",
        "colab": {
          "base_uri": "https://localhost:8080/",
          "height": 207
        },
        "outputId": "6174ed27-45dd-4838-ac3a-c46da9739fc8"
      },
      "outputs": [
        {
          "output_type": "stream",
          "name": "stdout",
          "text": [
            "[[1.2150227341098497e-07, 6.561122764193189e-07, 1.8746065040551972e-06, 4.050075780366167e-06, 7.455821322946806e-06, 1.2365192901748704e-05, 1.9051556470842453e-05, 2.7788284648347626e-05, 3.8848753209038635e-05, 5.250633958117566e-05], [3.0375568352746244e-08, 1.6402806910482973e-07, 4.686516260137993e-07, 1.0125189450915417e-06, 1.8639553307367014e-06, 3.091298225437176e-06, 4.762889117710613e-06, 6.947071162086907e-06, 9.712188302259659e-06, 1.3126584895293915e-05], [1.3500252601220556e-08, 7.2901364046591e-08, 2.0828961156168858e-07, 4.500084200406852e-07, 8.28424591438534e-07, 1.3739103224165228e-06, 2.1168396078713834e-06, 3.0875871831497356e-06, 4.316528134337627e-06, 5.83403773124174e-06]]\n"
          ]
        },
        {
          "output_type": "display_data",
          "data": {
            "text/plain": [
              "<Figure size 700x800 with 2 Axes>"
            ],
            "image/png": "[encoded data removed]"
          },
          "metadata": {}
        }
      ],
      "source": [
        "from mpl_toolkits.axes_grid1 import make_axes_locatable\n",
        "from matplotlib import pyplot as plt\n",
        "import matplotlib\n",
        "wavelength=[]\n",
        "for i in range(0,len(rows)):\n",
        "  corresponding_wavelength=[]\n",
        "  for a in range(0, len(rows[i])):\n",
        "    corresponding_wavelength.append((constants.Planck*(6.242*10**18.0)*constants.c)/rows[i][a])\n",
        "  wavelength.append(corresponding_wavelength)\n",
        "print(wavelength)\n",
        "fig, ax = plt.subplots(1, 1, figsize=(7,8))\n",
        "plot1 = ax.scatter(nv, Zv,c=rows,cmap='jet') # Look up how to make a color-coded scatter plot\n",
        "ax.set_aspect('equal')\n",
        "\n",
        "# Create a colorbar axis on the right side of ax. The width of cax will be 8%\n",
        "# of ax and the padding between cax and ax will be fixed at 0.1 inch.\n",
        "divider = make_axes_locatable(ax)\n",
        "cax = divider.append_axes(\"right\", size=\"8%\", pad=0.1)\n",
        "cbar = plt.colorbar(plot1, cax=cax)\n",
        "cbar.ax.tick_params(labelsize=12)\n",
        "cbar.set_label('color scale')"
      ]
    },
    {
      "cell_type": "markdown",
      "source": [
        "A lot of the emitted and absorbed wavelengths would actually be out of the visible light spectrum. The wavelengths tend to get longer, the higher the integer value is, and the energy gets smaller. This makes sense because the binding energy is lesser, the further away the electron is from the nucleus.\n"
      ],
      "metadata": {
        "id": "58S40ZwM8Nn-"
      },
      "id": "58S40ZwM8Nn-"
    }
  ],
  "metadata": {
    "kernelspec": {
      "display_name": "Python 3",
      "language": "python",
      "name": "python3"
    },
    "language_info": {
      "codemirror_mode": {
        "name": "ipython",
        "version": 3
      },
      "file_extension": ".py",
      "mimetype": "text/x-python",
      "name": "python",
      "nbconvert_exporter": "python",
      "pygments_lexer": "ipython3",
      "version": "3.8.8"
    },
    "colab": {
      "provenance": []
    }
  },
  "nbformat": 4,
  "nbformat_minor": 5
}